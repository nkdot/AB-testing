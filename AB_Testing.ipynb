{
 "cells": [
  {
   "cell_type": "markdown",
   "id": "6c4a0319",
   "metadata": {},
   "source": [
    "Link to dataset: https://www.kaggle.com/code/richieone13/a-b-testing-example/data"
   ]
  },
  {
   "cell_type": "code",
   "execution_count": 1,
   "id": "89d4299c",
   "metadata": {},
   "outputs": [],
   "source": [
    "import pandas as pd"
   ]
  },
  {
   "cell_type": "code",
   "execution_count": 2,
   "id": "1fd74c80",
   "metadata": {},
   "outputs": [
    {
     "data": {
      "text/html": [
       "<div>\n",
       "<style scoped>\n",
       "    .dataframe tbody tr th:only-of-type {\n",
       "        vertical-align: middle;\n",
       "    }\n",
       "\n",
       "    .dataframe tbody tr th {\n",
       "        vertical-align: top;\n",
       "    }\n",
       "\n",
       "    .dataframe thead th {\n",
       "        text-align: right;\n",
       "    }\n",
       "</style>\n",
       "<table border=\"1\" class=\"dataframe\">\n",
       "  <thead>\n",
       "    <tr style=\"text-align: right;\">\n",
       "      <th></th>\n",
       "      <th>user_id</th>\n",
       "      <th>timestamp</th>\n",
       "      <th>group</th>\n",
       "      <th>landing_page</th>\n",
       "      <th>converted</th>\n",
       "    </tr>\n",
       "  </thead>\n",
       "  <tbody>\n",
       "    <tr>\n",
       "      <th>0</th>\n",
       "      <td>851104</td>\n",
       "      <td>2017-01-21 22:11:48.556739</td>\n",
       "      <td>control</td>\n",
       "      <td>old_page</td>\n",
       "      <td>0</td>\n",
       "    </tr>\n",
       "    <tr>\n",
       "      <th>1</th>\n",
       "      <td>804228</td>\n",
       "      <td>2017-01-12 08:01:45.159739</td>\n",
       "      <td>control</td>\n",
       "      <td>old_page</td>\n",
       "      <td>0</td>\n",
       "    </tr>\n",
       "    <tr>\n",
       "      <th>2</th>\n",
       "      <td>661590</td>\n",
       "      <td>2017-01-11 16:55:06.154213</td>\n",
       "      <td>treatment</td>\n",
       "      <td>new_page</td>\n",
       "      <td>0</td>\n",
       "    </tr>\n",
       "    <tr>\n",
       "      <th>3</th>\n",
       "      <td>853541</td>\n",
       "      <td>2017-01-08 18:28:03.143765</td>\n",
       "      <td>treatment</td>\n",
       "      <td>new_page</td>\n",
       "      <td>0</td>\n",
       "    </tr>\n",
       "    <tr>\n",
       "      <th>4</th>\n",
       "      <td>864975</td>\n",
       "      <td>2017-01-21 01:52:26.210827</td>\n",
       "      <td>control</td>\n",
       "      <td>old_page</td>\n",
       "      <td>1</td>\n",
       "    </tr>\n",
       "  </tbody>\n",
       "</table>\n",
       "</div>"
      ],
      "text/plain": [
       "   user_id                   timestamp      group landing_page  converted\n",
       "0   851104  2017-01-21 22:11:48.556739    control     old_page          0\n",
       "1   804228  2017-01-12 08:01:45.159739    control     old_page          0\n",
       "2   661590  2017-01-11 16:55:06.154213  treatment     new_page          0\n",
       "3   853541  2017-01-08 18:28:03.143765  treatment     new_page          0\n",
       "4   864975  2017-01-21 01:52:26.210827    control     old_page          1"
      ]
     },
     "execution_count": 2,
     "metadata": {},
     "output_type": "execute_result"
    }
   ],
   "source": [
    "df=pd.read_csv('ab_data.csv')\n",
    "df.head()"
   ]
  },
  {
   "cell_type": "code",
   "execution_count": 28,
   "id": "73c9a653",
   "metadata": {},
   "outputs": [
    {
     "data": {
      "text/plain": [
       "294478"
      ]
     },
     "execution_count": 28,
     "metadata": {},
     "output_type": "execute_result"
    }
   ],
   "source": [
    "len(df)"
   ]
  },
  {
   "cell_type": "code",
   "execution_count": 14,
   "id": "bbd30012",
   "metadata": {},
   "outputs": [
    {
     "name": "stdout",
     "output_type": "stream",
     "text": [
      "Control group: 147202\n",
      "Treatment group: 147276\n"
     ]
    }
   ],
   "source": [
    "N_cont=df[df['group']=='control']['group'].count()\n",
    "N_exp=df[df['group']=='treatment']['group'].count()\n",
    "print('Control group:',N_cont)\n",
    "print('Treatment group:',N_exp)"
   ]
  },
  {
   "cell_type": "code",
   "execution_count": 15,
   "id": "36309be5",
   "metadata": {},
   "outputs": [],
   "source": [
    "#conversion rate for control group\n",
    "X_cont= df[(df['group']=='control')&(df['converted']==1)]['converted'].count()\n",
    "X_exp= df[(df['group']=='treatment')&(df['converted']==1)]['converted'].count()"
   ]
  },
  {
   "cell_type": "code",
   "execution_count": 20,
   "id": "296655b2",
   "metadata": {},
   "outputs": [
    {
     "name": "stdout",
     "output_type": "stream",
     "text": [
      "0.12039917935897611 0.11891957956489856\n"
     ]
    }
   ],
   "source": [
    "p_hat_cont=X_cont/N_cont\n",
    "p_hat_exp=X_exp/N_exp\n",
    "print(p_hat_cont,p_hat_exp)"
   ]
  },
  {
   "cell_type": "markdown",
   "id": "c7e2f2a9",
   "metadata": {},
   "source": [
    "Alpha=0.05\n",
    "Z(0.95)=1.96\n",
    "\n",
    "Hypothesis testing: \n",
    "H0:No difference (d=0)\n",
    "Ha:There is a significant difference\n",
    "\n",
    "Rejection rule:\n",
    "    Reject null, if d_hat>1.96*SE_pool or d_hat<-1.96*SE_pool"
   ]
  },
  {
   "cell_type": "markdown",
   "id": "f24c694f",
   "metadata": {},
   "source": [
    "# Select the number of samples"
   ]
  },
  {
   "cell_type": "markdown",
   "id": "9a104ad0",
   "metadata": {},
   "source": [
    "Link: https://www.evanmiller.org/ab-testing/sample-size.html\n",
    "        \n",
    "Baseline conversion rate:12% (estimated click-through probability before making the change ie., p_hat_cont)\n",
    "Minimum Detectable Effect:2% (practical significance level d_min)\n",
    "alpha=5%\n",
    "beta=20%\n",
    "statistical power=1-beta=80%\n",
    "Sample size= 4,230"
   ]
  },
  {
   "cell_type": "code",
   "execution_count": null,
   "id": "82a4be35",
   "metadata": {},
   "outputs": [],
   "source": [
    "alpha =0.05  #5%\n",
    "beta = 0.2 # statistical power=80% which is 1-beta=0.8\n",
    "d_min=0.02 # practical significance which is 2%\n"
   ]
  },
  {
   "cell_type": "code",
   "execution_count": 23,
   "id": "5413ccb9",
   "metadata": {},
   "outputs": [
    {
     "data": {
      "text/plain": [
       "0.0014795997940775518"
      ]
     },
     "execution_count": 23,
     "metadata": {},
     "output_type": "execute_result"
    }
   ],
   "source": [
    "import statistics\n",
    "import math\n",
    "P_hat_pool=(X_cont+X_exp)/(N_cont+N_exp)\n",
    "SE_pool=math.sqrt(P_hat_pool*(1-P_hat_pool)*((1/N_cont)+(1/N_exp)))\n",
    "d_hat=p_hat_cont-p_hat_exp\n",
    "d_hat"
   ]
  },
  {
   "cell_type": "code",
   "execution_count": 27,
   "id": "47c397b6",
   "metadata": {},
   "outputs": [
    {
     "name": "stdout",
     "output_type": "stream",
     "text": [
      "0.0023445424783720015\n",
      "-0.0008649426842944497 0.0038241422724495534\n"
     ]
    }
   ],
   "source": [
    "ME=1.96*SE_pool   #ME=Margin of error\n",
    "print(ME)\n",
    "Lower_limit=d_hat-ME\n",
    "Upper_limit=d_hat+ME\n",
    "print(Lower_limit,Upper_limit)"
   ]
  },
  {
   "attachments": {
    "ab.png": {
     "image/png": "[encoded data removed]"
    }
   },
   "cell_type": "markdown",
   "id": "634774ab",
   "metadata": {},
   "source": [
    "![ab.png](attachment:ab.png)"
   ]
  },
  {
   "cell_type": "markdown",
   "id": "7c1a3da6",
   "metadata": {},
   "source": [
    "Would you launch the change?\n",
    "No, Because the upper and lower limit range(-0.00086,+0.0038) are within the practical signifant level(-0.02,+0.02). \n",
    "So there is no effect of the experiment group on the convertion rate."
   ]
  }
 ],
 "metadata": {
  "kernelspec": {
   "display_name": "Python 3 (ipykernel)",
   "language": "python",
   "name": "python3"
  },
  "language_info": {
   "codemirror_mode": {
    "name": "ipython",
    "version": 3
   },
   "file_extension": ".py",
   "mimetype": "text/x-python",
   "name": "python",
   "nbconvert_exporter": "python",
   "pygments_lexer": "ipython3",
   "version": "3.7.11"
  }
 },
 "nbformat": 4,
 "nbformat_minor": 5
}
